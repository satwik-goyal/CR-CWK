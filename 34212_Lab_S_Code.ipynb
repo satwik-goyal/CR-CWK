{
  "nbformat": 4,
  "nbformat_minor": 0,
  "metadata": {
    "colab": {
      "provenance": [],
      "gpuType": "V100",
      "machine_shape": "hm",
      "include_colab_link": true
    },
    "kernelspec": {
      "name": "python3",
      "display_name": "Python 3"
    },
    "language_info": {
      "name": "python"
    },
    "accelerator": "GPU"
  },
  "cells": [
    {
      "cell_type": "markdown",
      "metadata": {
        "id": "view-in-github",
        "colab_type": "text"
      },
      "source": [
        "<a href=\"https://colab.research.google.com/github/satwik-goyal/Robotics-CIFAR100-Classification/blob/main/34212_Lab_S_Code.ipynb\" target=\"_parent\"><img src=\"https://colab.research.google.com/assets/colab-badge.svg\" alt=\"Open In Colab\"/></a>"
      ]
    },
    {
      "cell_type": "markdown",
      "source": [
        "# Keras"
      ],
      "metadata": {
        "id": "Tn3xhHXqwXsL"
      }
    },
    {
      "cell_type": "code",
      "source": [
        "# import the libraries\n",
        "\n",
        "\n",
        "import tensorflow as tf\n",
        "from tensorflow.keras.models import Sequential\n",
        "from tensorflow.keras.layers import Dense, Dropout, Flatten, BatchNormalization\n",
        "from tensorflow.keras.layers import Conv2D, MaxPooling2D, AveragePooling2D, Reshape , Multiply, Activation\n",
        "from tensorflow.keras.layers import Input, DepthwiseConv2D, GlobalAveragePooling2D , Add, UpSampling2D\n",
        "from tensorflow.keras.regularizers import l2\n",
        "from tensorflow.keras.callbacks import LearningRateScheduler\n",
        "from tensorflow.keras.optimizers.legacy import RMSprop, Adam\n",
        "import matplotlib.pyplot as plt\n",
        "from tensorflow.keras.applications import EfficientNetB0\n",
        "from tensorflow.keras.applications import ResNet50\n",
        "from keras.models import Model\n",
        "from keras.applications.resnet50 import preprocess_input, decode_predictions"
      ],
      "metadata": {
        "id": "7yH403c5FbRn"
      },
      "execution_count": null,
      "outputs": []
    },
    {
      "cell_type": "code",
      "source": [
        "%pip install keras-tuner --upgrade\n",
        "import keras_tuner as kt"
      ],
      "metadata": {
        "id": "EzKSfkaku_M1",
        "outputId": "56252bfe-281d-4d75-985d-55a8a422b5ad",
        "colab": {
          "base_uri": "https://localhost:8080/"
        }
      },
      "execution_count": null,
      "outputs": [
        {
          "output_type": "stream",
          "name": "stdout",
          "text": [
            "Collecting keras-tuner\n",
            "  Downloading keras_tuner-1.4.7-py3-none-any.whl (129 kB)\n",
            "\u001b[?25l     \u001b[90m━━━━━━━━━━━━━━━━━━━━━━━━━━━━━━━━━━━━━━━━\u001b[0m \u001b[32m0.0/129.1 kB\u001b[0m \u001b[31m?\u001b[0m eta \u001b[36m-:--:--\u001b[0m\r\u001b[2K     \u001b[90m━━━━━━━━━━━━━━━━━━━━━━━━━━━━━━━━━━━━━━━━\u001b[0m \u001b[32m129.1/129.1 kB\u001b[0m \u001b[31m3.8 MB/s\u001b[0m eta \u001b[36m0:00:00\u001b[0m\n",
            "\u001b[?25hRequirement already satisfied: keras in /usr/local/lib/python3.10/dist-packages (from keras-tuner) (2.15.0)\n",
            "Requirement already satisfied: packaging in /usr/local/lib/python3.10/dist-packages (from keras-tuner) (24.0)\n",
            "Requirement already satisfied: requests in /usr/local/lib/python3.10/dist-packages (from keras-tuner) (2.31.0)\n",
            "Collecting kt-legacy (from keras-tuner)\n",
            "  Downloading kt_legacy-1.0.5-py3-none-any.whl (9.6 kB)\n",
            "Requirement already satisfied: charset-normalizer<4,>=2 in /usr/local/lib/python3.10/dist-packages (from requests->keras-tuner) (3.3.2)\n",
            "Requirement already satisfied: idna<4,>=2.5 in /usr/local/lib/python3.10/dist-packages (from requests->keras-tuner) (3.6)\n",
            "Requirement already satisfied: urllib3<3,>=1.21.1 in /usr/local/lib/python3.10/dist-packages (from requests->keras-tuner) (2.0.7)\n",
            "Requirement already satisfied: certifi>=2017.4.17 in /usr/local/lib/python3.10/dist-packages (from requests->keras-tuner) (2024.2.2)\n",
            "Installing collected packages: kt-legacy, keras-tuner\n",
            "Successfully installed keras-tuner-1.4.7 kt-legacy-1.0.5\n"
          ]
        }
      ]
    },
    {
      "cell_type": "code",
      "execution_count": null,
      "metadata": {
        "id": "IB1vjS2tkUoY",
        "outputId": "092d29c3-9e9c-42b4-be25-6b449915301e",
        "colab": {
          "base_uri": "https://localhost:8080/"
        }
      },
      "outputs": [
        {
          "output_type": "stream",
          "name": "stdout",
          "text": [
            "Downloading data from https://www.cs.toronto.edu/~kriz/cifar-100-python.tar.gz\n",
            "169001437/169001437 [==============================] - 6s 0us/step\n"
          ]
        }
      ],
      "source": [
        "\n",
        "\n",
        " # Load CIFAR100 dataset\n",
        "from tensorflow.keras.datasets import cifar100\n",
        "(X_train, y_train), (X_test, y_test) = cifar100.load_data()\n",
        "\n",
        "# # Normalize pixel values\n",
        "# X_train = X_train.astype('float32') / 255\n",
        "# X_test = X_test.astype('float32') / 255\n",
        "x_train = preprocess_input(X_train)\n",
        "x_test = preprocess_input(X_test)\n",
        "\n",
        "\n",
        "# Convert class vectors to binary class matrices\n",
        "y_train = tf.keras.utils.to_categorical(y_train, 100)\n",
        "y_test = tf.keras.utils.to_categorical(y_test, 100)\n",
        "\n",
        "\n"
      ]
    },
    {
      "cell_type": "code",
      "source": [
        "Selected_Image = 13000\n",
        "image = x_train[Selected_Image]\n",
        "plt.imshow(image)\n",
        "plt.show()\n"
      ],
      "metadata": {
        "id": "pmdquQgpwwCE",
        "outputId": "de7aa2cd-0760-4432-a7a7-ffbde4bb885f",
        "colab": {
          "base_uri": "https://localhost:8080/",
          "height": 447
        }
      },
      "execution_count": null,
      "outputs": [
        {
          "output_type": "stream",
          "name": "stderr",
          "text": [
            "WARNING:matplotlib.image:Clipping input data to the valid range for imshow with RGB data ([0..1] for floats or [0..255] for integers).\n"
          ]
        },
        {
          "output_type": "display_data",
          "data": {
            "text/plain": [
              "<Figure size 640x480 with 1 Axes>"
            ],
            "image/png": "[encoded data removed]"
          },
          "metadata": {}
        }
      ]
    },
    {
      "cell_type": "markdown",
      "source": [
        "## Pretrained"
      ],
      "metadata": {
        "id": "vWUrQKgxwjn1"
      }
    },
    {
      "cell_type": "code",
      "source": [
        "# Model class for individual hyperparameter evaluation\n",
        "class ResNetModel(kt.HyperModel):\n",
        "\n",
        "  def build(self, hp):\n",
        "      base_model = ResNet50(weights='imagenet', include_top=False, input_shape=(224, 224, 3))\n",
        "\n",
        "      for layer in base_model.layers:\n",
        "          if isinstance(layer, BatchNormalization):\n",
        "              layer.trainable = True\n",
        "          else:\n",
        "              layer.trainable = False\n",
        "\n",
        "      model = Sequential()\n",
        "      model.add(UpSampling2D( size = (7,7) , interpolation = \"bicubic\"))\n",
        "      model.add(base_model)\n",
        "      model.add(GlobalAveragePooling2D())\n",
        "      model.add(Dense(1024, activation='relu'))\n",
        "      model.add(Dropout(0.25))\n",
        "      model.add(BatchNormalization())\n",
        "      model.add(Dense(256, activation='relu'))\n",
        "      model.add(Dropout(0.25))\n",
        "      model.add(BatchNormalization())\n",
        "      model.add(Dense(100, activation='softmax'))\n",
        "\n",
        "      learning_rate = hp.Choice(\"learning_rate\", values=[1e-2, 5e-3, 1e-3, 5e-4, 1e-4])\n",
        "      weight_decay = hp.Choice(\"weight_decay\" , values = [0.0, 1e-4, 5e-4, 1e-3, 5e-3])\n",
        "      optimizer = Adam(learning_rate=0.001 , decay = weight_decay)\n",
        "      model.compile(optimizer=optimizer, metrics=[\"accuracy\"], loss='categorical_crossentropy')\n",
        "      return model\n",
        "\n",
        "  def fit(self, hp, model, *args, **kwargs):\n",
        "        return model.fit(\n",
        "            *args,\n",
        "            batch_size=hp.Choice(\"batch_size\", [32, 64,128]),\n",
        "            **kwargs,\n",
        "        )\n"
      ],
      "metadata": {
        "id": "7IAqV6XgwiZI"
      },
      "execution_count": null,
      "outputs": []
    },
    {
      "cell_type": "code",
      "source": [
        "# Tuner for Learning Rate\n",
        "tuner_lr = kt.GridSearch(ResNetModel(),objective = \"val_loss\" , max_trials = 5, directory = \"evaluation\" , project_name = \"learning_rate\" )\n",
        "tuner_lr.search(x_train, y_train, epochs = 10, validation_data = (x_test, y_test), callbacks=[tf.keras.callbacks.EarlyStopping('val_loss', patience=2)])\n"
      ],
      "metadata": {
        "id": "m_ChcPAXDRed"
      },
      "execution_count": null,
      "outputs": []
    },
    {
      "cell_type": "code",
      "source": [
        "# !zip -r /content/learning_rate.zip /content/evaluation/learning_rate/"
      ],
      "metadata": {
        "id": "RFdN0Zm1Ec7C"
      },
      "execution_count": null,
      "outputs": []
    },
    {
      "cell_type": "code",
      "source": [
        "tuner_lr.get_best_hyperparameters(num_trials=5)[0].get(\"learning_rate\")"
      ],
      "metadata": {
        "id": "4HXH-xXc9-g7"
      },
      "execution_count": null,
      "outputs": []
    },
    {
      "cell_type": "code",
      "source": [
        "# Tuner for batch size\n",
        "\n",
        "tuner_bs = kt.GridSearch(ResNetModel(),objective = \"val_loss\" , max_trials = 5, directory = \"evaluation\" , project_name = \"batch_size\" )\n",
        "tuner_bs.search(x_train, y_train, epochs = 10, validation_data = (x_test, y_test), callbacks=[tf.keras.callbacks.EarlyStopping('val_loss', patience=2)])"
      ],
      "metadata": {
        "id": "wQickA4M9_6H"
      },
      "execution_count": null,
      "outputs": []
    },
    {
      "cell_type": "code",
      "source": [
        "# Tuner for weight decay\n",
        "\n",
        "tuner_wd = kt.GridSearch(ResNetModel(),objective = \"val_loss\" , max_trials = 5, directory = \"evaluation\" , project_name = \"weight_decay\" )\n",
        "tuner_wd.search(x_train, y_train, epochs = 10, validation_data = (x_test, y_test), callbacks=[tf.keras.callbacks.EarlyStopping('val_loss', patience=2)])"
      ],
      "metadata": {
        "id": "Ip3xk7lLFYmE"
      },
      "execution_count": null,
      "outputs": []
    },
    {
      "cell_type": "code",
      "source": [
        "# Model for Combination testing\n",
        "\n",
        "class ResNetModel2(kt.HyperModel):\n",
        "\n",
        "  def build(self, hp):\n",
        "      base_model = ResNet50(weights='imagenet', include_top=False, input_shape=(224, 224, 3))\n",
        "\n",
        "      for layer in base_model.layers:\n",
        "          if isinstance(layer, BatchNormalization):\n",
        "              layer.trainable = True\n",
        "          else:\n",
        "              layer.trainable = False\n",
        "\n",
        "      model = Sequential()\n",
        "      model.add(UpSampling2D( size = (7,7) , interpolation = \"bicubic\"))\n",
        "      model.add(base_model)\n",
        "      model.add(GlobalAveragePooling2D())\n",
        "      model.add(Dense(1024, activation='relu'))\n",
        "      model.add(Dropout(0.25))\n",
        "      model.add(BatchNormalization())\n",
        "      model.add(Dense(256, activation='relu'))\n",
        "      model.add(Dropout(0.25))\n",
        "      model.add(BatchNormalization())\n",
        "      model.add(Dense(100, activation='softmax'))\n",
        "\n",
        "      learning_rate = hp.Choice(\"learning_rate\", values=[1e-3, 5e-4])\n",
        "      weight_decay = hp.Choice(\"weight_decay\" , values = [1e-4, 5e-4])\n",
        "      optimizer = Adam(learning_rate=0.001 , decay = weight_decay)\n",
        "      model.compile(optimizer=optimizer, metrics=[\"accuracy\"], loss='categorical_crossentropy')\n",
        "      return model\n",
        "\n",
        "  def fit(self, hp, model, *args, **kwargs):\n",
        "        return model.fit(\n",
        "            *args,\n",
        "            batch_size=hp.Choice(\"batch_size\", [64,128]),\n",
        "            **kwargs,\n",
        "        )"
      ],
      "metadata": {
        "id": "kyqQ_B2uFpFz"
      },
      "execution_count": null,
      "outputs": []
    },
    {
      "cell_type": "code",
      "source": [
        "# tuner for the combination\n",
        "\n",
        "tuner_combination = kt.GridSearch(ResNetModel2(),objective = \"val_loss\" , max_trials = 5, directory = \"evaluation\" , project_name = \"weight_decay\" )\n",
        "tuner_combination.search(x_train, y_train, epochs = 15, validation_data = (x_test, y_test), callbacks=[tf.keras.callbacks.EarlyStopping('val_loss', patience=3)])"
      ],
      "metadata": {
        "id": "0lUdTX7fhwzd"
      },
      "execution_count": null,
      "outputs": []
    },
    {
      "cell_type": "code",
      "source": [],
      "metadata": {
        "id": "cqVVOtyDh93w"
      },
      "execution_count": null,
      "outputs": []
    }
  ]
}