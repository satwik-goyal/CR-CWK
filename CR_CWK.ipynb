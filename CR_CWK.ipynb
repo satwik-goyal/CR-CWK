{
  "nbformat": 4,
  "nbformat_minor": 0,
  "metadata": {
    "colab": {
      "provenance": [],
      "gpuType": "T4",
      "include_colab_link": true
    },
    "kernelspec": {
      "name": "python3",
      "display_name": "Python 3"
    },
    "language_info": {
      "name": "python"
    },
    "accelerator": "GPU"
  },
  "cells": [
    {
      "cell_type": "markdown",
      "metadata": {
        "id": "view-in-github",
        "colab_type": "text"
      },
      "source": [
        "<a href=\"https://colab.research.google.com/github/satwik-goyal/Robotics-CIFAR100-Classification/blob/main/CR_CWK.ipynb\" target=\"_parent\"><img src=\"https://colab.research.google.com/assets/colab-badge.svg\" alt=\"Open In Colab\"/></a>"
      ]
    },
    {
      "cell_type": "markdown",
      "source": [
        "# Keras"
      ],
      "metadata": {
        "id": "Tn3xhHXqwXsL"
      }
    },
    {
      "cell_type": "code",
      "execution_count": 35,
      "metadata": {
        "id": "IB1vjS2tkUoY"
      },
      "outputs": [],
      "source": [
        "import tensorflow as tf\n",
        "from tensorflow.keras.models import Sequential\n",
        "from tensorflow.keras.layers import Dense, Dropout, Flatten, BatchNormalization\n",
        "from tensorflow.keras.layers import Conv2D, MaxPooling2D, AveragePooling2D, Reshape , Multiply, Activation\n",
        "from tensorflow.keras.layers import Input, DepthwiseConv2D, GlobalAveragePooling2D , Add\n",
        "from tensorflow.keras.regularizers import l2\n",
        "from tensorflow.keras.callbacks import LearningRateScheduler\n",
        "from tensorflow.keras.optimizers.legacy import RMSprop, Adam\n",
        "import matplotlib.pyplot as plt\n",
        "from tensorflow.keras.applications import EfficientNetB0\n",
        "from tensorflow.keras.applications import ResNet50\n",
        "from keras.models import Model\n",
        "\n",
        " # Load CIFAR100 dataset\n",
        "from tensorflow.keras.datasets import cifar100\n",
        "(X_train, y_train), (X_test, y_test) = cifar100.load_data()\n",
        "\n",
        "# Normalize pixel values\n",
        "X_train = X_train.astype('float32') / 255\n",
        "X_test = X_test.astype('float32') / 255\n",
        "\n",
        "# Convert class vectors to binary class matrices\n",
        "y_train = tf.keras.utils.to_categorical(y_train, 100)\n",
        "y_test = tf.keras.utils.to_categorical(y_test, 100)\n",
        "\n",
        "\n"
      ]
    },
    {
      "cell_type": "code",
      "source": [
        "Selected_Image = 1002\n",
        "image = X_train[Selected_Image]\n",
        "plt.imshow(image)\n",
        "plt.show()\n"
      ],
      "metadata": {
        "id": "pmdquQgpwwCE",
        "outputId": "7ccc1f51-3ec0-4bd2-9616-54dce4839a4b",
        "colab": {
          "base_uri": "https://localhost:8080/",
          "height": 430
        }
      },
      "execution_count": 36,
      "outputs": [
        {
          "output_type": "display_data",
          "data": {
            "text/plain": [
              "<Figure size 640x480 with 1 Axes>"
            ],
            "image/png": "[encoded data removed]"
          },
          "metadata": {}
        }
      ]
    },
    {
      "cell_type": "markdown",
      "source": [
        "## trymodel"
      ],
      "metadata": {
        "id": "-Fq6NoW0wdfh"
      }
    },
    {
      "cell_type": "code",
      "source": [
        "\n"
      ],
      "metadata": {
        "id": "kA4_8OYzwcFo"
      },
      "execution_count": 37,
      "outputs": []
    },
    {
      "cell_type": "markdown",
      "source": [
        "## Pretrained"
      ],
      "metadata": {
        "id": "vWUrQKgxwjn1"
      }
    },
    {
      "cell_type": "code",
      "source": [
        "# data augmentation\n",
        "from keras.preprocessing.image import ImageDataGenerator\n",
        "\n",
        "train_data_generator = ImageDataGenerator(\n",
        "   rotation_range=40,\n",
        "   width_shift_range=0.2,\n",
        "   height_shift_range=0.2,\n",
        "   zoom_range=0.2,\n",
        "   horizontal_flip=True,\n",
        "   fill_mode='nearest')\n",
        "\n",
        "# Fit the data generator to your data\n",
        "train_data_generator.fit(X_train)\n",
        "\n",
        "# Apply the transformations to your data\n",
        "transformed_train_data = train_data_generator.flow(X_train,y_train, batch_size=32, shuffle=False)\n"
      ],
      "metadata": {
        "id": "D4oTiwf2wzlP"
      },
      "execution_count": 38,
      "outputs": []
    },
    {
      "cell_type": "code",
      "source": [
        "test_data_generator = ImageDataGenerator()\n",
        "\n",
        "transformed_test_data = test_data_generator.flow(X_test, y_test , batch_size = 32)"
      ],
      "metadata": {
        "id": "K5U_5U802dJ4"
      },
      "execution_count": 39,
      "outputs": []
    },
    {
      "cell_type": "code",
      "source": [
        "\n",
        "\n",
        "base_model = ResNet50(input_shape = (32,32,3) , include_top= False , weights= None,\n",
        "    classes=100)\n",
        "\n",
        "model = base_model.output\n",
        "model = GlobalAveragePooling2D(name=\"avg_pool\")(model)\n",
        "model = BatchNormalization()(model)\n",
        "model = Dropout(0.2, name=\"top_dropout\")(model)\n",
        "model = Dense(100 , activation=\"softmax\", name=\"pred\")(model)\n",
        "\n",
        "\n",
        "pre_model = Model(inputs=base_model.input, outputs=x_newfc)\n",
        "\n",
        "\n",
        "model.compile(optimizer= Adam(learning_rate=1e-2), loss=\"categorical_crossentropy\", metrics=[\"accuracy\"])\n"
      ],
      "metadata": {
        "id": "7IAqV6XgwiZI"
      },
      "execution_count": 40,
      "outputs": []
    },
    {
      "cell_type": "code",
      "source": [
        "model.summary()"
      ],
      "metadata": {
        "id": "yXBzsKjO2BWo",
        "outputId": "dfe8999e-348f-468e-dfe4-45bd2205474a",
        "colab": {
          "base_uri": "https://localhost:8080/"
        }
      },
      "execution_count": 41,
      "outputs": [
        {
          "output_type": "stream",
          "name": "stdout",
          "text": [
            "Model: \"sequential_1\"\n",
            "_________________________________________________________________\n",
            " Layer (type)                Output Shape              Param #   \n",
            "=================================================================\n",
            " resnet50 (Functional)       (None, 1, 1, 2048)        23587712  \n",
            "                                                                 \n",
            " avg_pool (GlobalAveragePoo  (None, 2048)              0         \n",
            " ling2D)                                                         \n",
            "                                                                 \n",
            " batch_normalization_1 (Bat  (None, 2048)              8192      \n",
            " chNormalization)                                                \n",
            "                                                                 \n",
            " top_dropout (Dropout)       (None, 2048)              0         \n",
            "                                                                 \n",
            " pred (Dense)                (None, 100)               204900    \n",
            "                                                                 \n",
            "=================================================================\n",
            "Total params: 23800804 (90.79 MB)\n",
            "Trainable params: 23743588 (90.57 MB)\n",
            "Non-trainable params: 57216 (223.50 KB)\n",
            "_________________________________________________________________\n"
          ]
        }
      ]
    },
    {
      "cell_type": "code",
      "source": [
        "model.fit_generator(transformed_train_data,\n",
        "    steps_per_epoch=len(X_train) // 32,\n",
        "    epochs=50,\n",
        "    validation_data=transformed_test_data,\n",
        "    validation_steps=len(X_test) // 32\n",
        ")"
      ],
      "metadata": {
        "id": "6S_cRXc12Br9",
        "outputId": "c19124d1-0448-4687-f35a-d008c5d47fe0",
        "colab": {
          "base_uri": "https://localhost:8080/"
        }
      },
      "execution_count": null,
      "outputs": [
        {
          "output_type": "stream",
          "name": "stdout",
          "text": [
            "Epoch 1/50\n"
          ]
        },
        {
          "output_type": "stream",
          "name": "stderr",
          "text": [
            "<ipython-input-42-abf7457780af>:1: UserWarning: `Model.fit_generator` is deprecated and will be removed in a future version. Please use `Model.fit`, which supports generators.\n",
            "  model.fit_generator(transformed_train_data,\n"
          ]
        },
        {
          "output_type": "stream",
          "name": "stdout",
          "text": [
            "1562/1562 [==============================] - 81s 48ms/step - loss: 5.5014 - accuracy: 0.0271 - val_loss: 4.6636 - val_accuracy: 0.0289\n",
            "Epoch 2/50\n",
            "1562/1562 [==============================] - 73s 47ms/step - loss: 4.2588 - accuracy: 0.0497 - val_loss: 4.3529 - val_accuracy: 0.0647\n",
            "Epoch 3/50\n",
            "1562/1562 [==============================] - 73s 47ms/step - loss: 4.1729 - accuracy: 0.0677 - val_loss: 4.1959 - val_accuracy: 0.0760\n",
            "Epoch 4/50\n",
            "1562/1562 [==============================] - 74s 47ms/step - loss: 4.1257 - accuracy: 0.0757 - val_loss: 4.6062 - val_accuracy: 0.0688\n",
            "Epoch 5/50\n",
            "1562/1562 [==============================] - 73s 47ms/step - loss: 4.0596 - accuracy: 0.0875 - val_loss: 4.0267 - val_accuracy: 0.1071\n",
            "Epoch 6/50\n",
            "1562/1562 [==============================] - 75s 48ms/step - loss: 3.9736 - accuracy: 0.1025 - val_loss: 4.3905 - val_accuracy: 0.1025\n",
            "Epoch 7/50\n",
            "1562/1562 [==============================] - 74s 47ms/step - loss: 3.8999 - accuracy: 0.1108 - val_loss: 4.0885 - val_accuracy: 0.1241\n",
            "Epoch 8/50\n",
            "1562/1562 [==============================] - 73s 47ms/step - loss: 3.8130 - accuracy: 0.1259 - val_loss: 3.9359 - val_accuracy: 0.1202\n",
            "Epoch 9/50\n",
            "1562/1562 [==============================] - 74s 47ms/step - loss: 3.7472 - accuracy: 0.1331 - val_loss: 3.9919 - val_accuracy: 0.1356\n",
            "Epoch 10/50\n",
            "1562/1562 [==============================] - 72s 46ms/step - loss: 3.6959 - accuracy: 0.1420 - val_loss: 4.6764 - val_accuracy: 0.1283\n",
            "Epoch 11/50\n",
            "1562/1562 [==============================] - 73s 47ms/step - loss: 3.6230 - accuracy: 0.1529 - val_loss: 4.1212 - val_accuracy: 0.1465\n",
            "Epoch 12/50\n",
            "1562/1562 [==============================] - 74s 47ms/step - loss: 3.5688 - accuracy: 0.1626 - val_loss: 3.7721 - val_accuracy: 0.1751\n",
            "Epoch 13/50\n",
            "1562/1562 [==============================] - 73s 47ms/step - loss: 3.5001 - accuracy: 0.1726 - val_loss: 4.0004 - val_accuracy: 0.1754\n",
            "Epoch 14/50\n",
            "1562/1562 [==============================] - 75s 48ms/step - loss: 3.4445 - accuracy: 0.1819 - val_loss: 3.9435 - val_accuracy: 0.1624\n",
            "Epoch 15/50\n",
            "1562/1562 [==============================] - 76s 49ms/step - loss: 3.3831 - accuracy: 0.1911 - val_loss: 5.0654 - val_accuracy: 0.1530\n",
            "Epoch 16/50\n",
            "1562/1562 [==============================] - 74s 48ms/step - loss: 3.3316 - accuracy: 0.2032 - val_loss: 3.9905 - val_accuracy: 0.1904\n",
            "Epoch 17/50\n",
            "   9/1562 [..............................] - ETA: 1:06 - loss: 3.3262 - accuracy: 0.1944"
          ]
        }
      ]
    },
    {
      "cell_type": "code",
      "source": [],
      "metadata": {
        "id": "YgSxo-Db28sN"
      },
      "execution_count": null,
      "outputs": []
    }
  ]
}