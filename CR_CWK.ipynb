{
  "nbformat": 4,
  "nbformat_minor": 0,
  "metadata": {
    "colab": {
      "provenance": [],
      "gpuType": "T4",
      "authorship_tag": "ABX9TyMswc/K4Xeffd29pHVjh9g5",
      "include_colab_link": true
    },
    "kernelspec": {
      "name": "python3",
      "display_name": "Python 3"
    },
    "language_info": {
      "name": "python"
    },
    "accelerator": "GPU"
  },
  "cells": [
    {
      "cell_type": "markdown",
      "metadata": {
        "id": "view-in-github",
        "colab_type": "text"
      },
      "source": [
        "<a href=\"https://colab.research.google.com/github/satwik-goyal/CR-CWK/blob/main/CR_CWK.ipynb\" target=\"_parent\"><img src=\"https://colab.research.google.com/assets/colab-badge.svg\" alt=\"Open In Colab\"/></a>"
      ]
    },
    {
      "cell_type": "code",
      "execution_count": 2,
      "metadata": {
        "id": "IB1vjS2tkUoY"
      },
      "outputs": [],
      "source": [
        "import tensorflow as tf\n",
        "from tensorflow.keras.models import Sequential\n",
        "from tensorflow.keras.layers import Dense, Dropout, Flatten, BatchNormalization\n",
        "from tensorflow.keras.layers import Conv2D, MaxPooling2D, AveragePooling2D, Reshape , Multiply\n",
        "from tensorflow.keras.layers import Input, DepthwiseConv2D, GlobalAveragePooling2D\n",
        "from tensorflow.keras.regularizers import l2\n",
        "from tensorflow.keras.callbacks import LearningRateScheduler\n",
        "from tensorflow.keras.optimizers.legacy import RMSprop\n",
        "import matplotlib.pyplot as plt\n",
        "\n"
      ]
    },
    {
      "cell_type": "code",
      "source": [
        " # Load CIFAR100 dataset\n",
        "from tensorflow.keras.datasets import cifar100\n",
        "(X_train, y_train), (X_test, y_test) = cifar100.load_data()\n",
        "\n",
        "# Normalize pixel values\n",
        "X_train = X_train.astype('float32') / 255\n",
        "X_test = X_test.astype('float32') / 255\n",
        "\n",
        "# Convert class vectors to binary class matrices\n",
        "y_train = tf.keras.utils.to_categorical(y_train, 100)\n",
        "y_test = tf.keras.utils.to_categorical(y_test, 100)"
      ],
      "metadata": {
        "colab": {
          "base_uri": "https://localhost:8080/"
        },
        "id": "83xXmrVpPoHc",
        "outputId": "7cd75471-3655-49ce-e917-c76c16c6eea8"
      },
      "execution_count": 3,
      "outputs": [
        {
          "output_type": "stream",
          "name": "stdout",
          "text": [
            "Downloading data from https://www.cs.toronto.edu/~kriz/cifar-100-python.tar.gz\n",
            "169001437/169001437 [==============================] - 2s 0us/step\n"
          ]
        }
      ]
    },
    {
      "cell_type": "code",
      "source": [
        "print(\"Shape of the data \" , X_train[0].shape)"
      ],
      "metadata": {
        "colab": {
          "base_uri": "https://localhost:8080/"
        },
        "id": "ZLOeLB5yXxEo",
        "outputId": "af8891b4-da74-486b-de79-38694f264f0f"
      },
      "execution_count": 4,
      "outputs": [
        {
          "output_type": "stream",
          "name": "stdout",
          "text": [
            "Shape of the data  (32, 32, 3)\n"
          ]
        }
      ]
    },
    {
      "cell_type": "code",
      "source": [
        "Selected_Image = 2\n",
        "image = X_train[Selected_Image]\n",
        "print (\"Sample input image: \" + str(image))\n",
        "plt.imshow(image)\n",
        "plt.show()"
      ],
      "metadata": {
        "colab": {
          "base_uri": "https://localhost:8080/",
          "height": 1000
        },
        "id": "FhxTAla0W7Kn",
        "outputId": "ad84e3a0-6d6b-4cb2-e3cc-c6742e33da87"
      },
      "execution_count": 5,
      "outputs": [
        {
          "output_type": "stream",
          "name": "stdout",
          "text": [
            "Sample input image: [[[0.98039216 0.98039216 0.972549  ]\n",
            "  [0.972549   0.9764706  0.9529412 ]\n",
            "  [0.96862745 0.972549   0.9372549 ]\n",
            "  ...\n",
            "  [0.98039216 0.98039216 0.9647059 ]\n",
            "  [0.98039216 0.98039216 0.9647059 ]\n",
            "  [0.9764706  0.98039216 0.9647059 ]]\n",
            "\n",
            " [[0.98039216 0.9843137  0.9607843 ]\n",
            "  [0.972549   0.9764706  0.93333334]\n",
            "  [0.96862745 0.96862745 0.91764706]\n",
            "  ...\n",
            "  [0.9843137  0.9843137  0.9490196 ]\n",
            "  [0.9843137  0.9882353  0.9529412 ]\n",
            "  [0.98039216 0.9843137  0.9529412 ]]\n",
            "\n",
            " [[0.9843137  0.9843137  0.95686275]\n",
            "  [0.98039216 0.972549   0.92941177]\n",
            "  [0.98039216 0.9607843  0.9137255 ]\n",
            "  ...\n",
            "  [0.98039216 0.9764706  0.93333334]\n",
            "  [0.98039216 0.9764706  0.9411765 ]\n",
            "  [0.98039216 0.9764706  0.9490196 ]]\n",
            "\n",
            " ...\n",
            "\n",
            " [[0.8666667  0.8352941  0.7490196 ]\n",
            "  [0.8666667  0.80784315 0.6901961 ]\n",
            "  [0.88235295 0.8117647  0.70980394]\n",
            "  ...\n",
            "  [0.78039217 0.6901961  0.5254902 ]\n",
            "  [0.8117647  0.75686276 0.64705884]\n",
            "  [0.9137255  0.8980392  0.8862745 ]]\n",
            "\n",
            " [[0.88235295 0.8745098  0.8       ]\n",
            "  [0.8901961  0.85882354 0.76862746]\n",
            "  [0.8980392  0.84705883 0.78431374]\n",
            "  ...\n",
            "  [0.8        0.7254902  0.5921569 ]\n",
            "  [0.83137256 0.7882353  0.7058824 ]\n",
            "  [0.91764706 0.9098039  0.89411765]]\n",
            "\n",
            " [[0.9137255  0.9137255  0.8862745 ]\n",
            "  [0.91764706 0.9098039  0.8784314 ]\n",
            "  [0.92156863 0.9019608  0.88235295]\n",
            "  ...\n",
            "  [0.85882354 0.81960785 0.7607843 ]\n",
            "  [0.8745098  0.84705883 0.8117647 ]\n",
            "  [0.9098039  0.9019608  0.89411765]]]\n"
          ]
        },
        {
          "output_type": "display_data",
          "data": {
            "text/plain": [
              "<Figure size 640x480 with 1 Axes>"
            ],
            "image/png": "[encoded data removed]"
          },
          "metadata": {}
        }
      ]
    },
    {
      "cell_type": "code",
      "source": [
        "def EfficientNet(input_shape, num_classes):\n",
        "    # Input layer\n",
        "    inputs = Input(shape=input_shape)\n",
        "\n",
        "    # Base Block\n",
        "    x = Conv2D(32, (3, 3), padding='same', activation='relu')(inputs)\n",
        "    x = BatchNormalization()(x)\n",
        "\n",
        "    # Middle Block (Repeat this block multiple times)\n",
        "    for _ in range(3):\n",
        "        x = DepthwiseConv2D((3, 3), padding='same', activation='relu')(x)\n",
        "        x = BatchNormalization()(x)\n",
        "\n",
        "        # Squeeze and excitation\n",
        "        se = GlobalAveragePooling2D()(x)\n",
        "        se = Reshape((1, 1, int(x.shape[-1])))(se)\n",
        "        se = Dense(int(x.shape[-1]) // 16, activation='relu')(se)\n",
        "        se = Dense(int(x.shape[-1]), activation='sigmoid')(se)\n",
        "        se = Reshape((1, 1, int(x.shape[-1])))(se)\n",
        "        x = Multiply()([x, se])\n",
        "\n",
        "\n",
        "        x = Conv2D(64, (1, 1), padding='same', activation='relu')(x)\n",
        "        x = BatchNormalization()(x)\n",
        "        x = Dropout(0.3)(x)\n",
        "\n",
        "    # Top Block\n",
        "    x = GlobalAveragePooling2D()(x)\n",
        "    x = Dense(num_classes, activation='softmax')(x)\n",
        "\n",
        "    # Create the model\n",
        "    model = tf.keras.Model(inputs, x)\n",
        "    return model\n"
      ],
      "metadata": {
        "id": "q-4Htyl_WP9U"
      },
      "execution_count": 7,
      "outputs": []
    },
    {
      "cell_type": "code",
      "source": [
        "\n",
        "\n",
        "# Create the model\n",
        "model = EfficientNet(input_shape=(32, 32, 3), num_classes=100)\n",
        "\n",
        "# Compile the model\n",
        "opt = RMSprop(learning_rate=1e-2, decay=1e-6)\n",
        "model.compile(optimizer=\"adam\", loss='categorical_crossentropy', metrics=['accuracy'])\n"
      ],
      "metadata": {
        "id": "fSNalSrLWP7E"
      },
      "execution_count": 8,
      "outputs": []
    },
    {
      "cell_type": "code",
      "source": [
        "model.fit(X_train, y_train, epochs=100, batch_size=128, validation_split = 0.1)"
      ],
      "metadata": {
        "id": "GNpBjsIiWP4u"
      },
      "execution_count": null,
      "outputs": []
    },
    {
      "cell_type": "code",
      "source": [
        "from tensorflow.keras.models import load_model\n",
        "model.save(\"Model_lr-001.Efficientnet\")"
      ],
      "metadata": {
        "id": "z7X5FBKMWP2d"
      },
      "execution_count": 10,
      "outputs": []
    },
    {
      "cell_type": "code",
      "source": [
        "model_load_1 = load_model(\"Model_lr-001.Efficientnet\")"
      ],
      "metadata": {
        "id": "D_ca9SVGWPz9"
      },
      "execution_count": 11,
      "outputs": []
    },
    {
      "cell_type": "code",
      "source": [
        "history = model_load_1.evaluate(X_test,y_test)"
      ],
      "metadata": {
        "colab": {
          "base_uri": "https://localhost:8080/"
        },
        "id": "KgUlFz-WWPwm",
        "outputId": "9085d785-49c4-420b-b9ff-7d16f3b08c9b"
      },
      "execution_count": 12,
      "outputs": [
        {
          "output_type": "stream",
          "name": "stdout",
          "text": [
            "313/313 [==============================] - 4s 10ms/step - loss: 3.3145 - accuracy: 0.3055\n"
          ]
        }
      ]
    },
    {
      "cell_type": "code",
      "source": [
        "# import tensorflow as tf\n",
        "# from tensorflow.keras.layers import Conv2D, MaxPooling2D, Flatten, Dense, BatchNormalization, Dropout\n",
        "\n",
        "# # Create a sequential model\n",
        "# model_2 = tf.keras.Sequential()\n",
        "\n",
        "# # Add convolutional layers\n",
        "# model_2.add(Conv2D(64, (3, 3), activation='relu', input_shape=(32, 32, 3)))\n",
        "# model_2.add(BatchNormalization())\n",
        "# model_2.add(MaxPooling2D((2, 2)))\n",
        "\n",
        "# model_2.add(Conv2D(128, (3, 3), activation='relu'))\n",
        "# model_2.add(BatchNormalization())\n",
        "# model_2.add(MaxPooling2D((2, 2)))\n",
        "\n",
        "# model_2.add(Conv2D(256, (3, 3), activation='relu'))\n",
        "# model_2.add(BatchNormalization())\n",
        "# model_2.add(MaxPooling2D((2, 2)))\n",
        "\n",
        "# model_2.add(Conv2D(128, (3, 3), activation='relu'))\n",
        "# model_2.add(BatchNormalization())\n",
        "# model_2.add(MaxPooling2D((2, 2)))\n",
        "\n",
        "# model_2.add(Conv2D(64, (3, 3), activation='relu'))\n",
        "# model_2.add(BatchNormalization())\n",
        "# model_2.add(MaxPooling2D((2, 2)))\n",
        "\n",
        "# # Flatten the output\n",
        "# model_2.add(Flatten())\n",
        "\n",
        "# # Add fully connected layers\n",
        "# model_2.add(Dense(512, activation='relu'))\n",
        "# model_2.add(Dropout(0.5))  # Add dropout for regularization\n",
        "\n",
        "# model_2.add(Dense(256, activation='relu'))\n",
        "# model_2.add(Dropout(0.3))  # More dropout\n",
        "\n",
        "# model_2.add(Dense(100, activation='softmax'))  # 100 classes for CIFAR-100\n",
        "\n",
        "import tensorflow as tf\n",
        "from tensorflow.keras.layers import SeparableConv2D, MaxPooling2D, Flatten, Dense, BatchNormalization, Dropout\n",
        "from tensorflow.keras.layers import Activation, GlobalAveragePooling2D, Multiply\n",
        "\n",
        "# Create a sequential model\n",
        "model_2 = tf.keras.Sequential()\n",
        "\n",
        "# Add convolutional layers\n",
        "model_2.add(SeparableConv2D(64, (3, 3), padding='same', input_shape=(32, 32, 3)))\n",
        "model_2.add(BatchNormalization())\n",
        "model_2.add(Activation('swish'))\n",
        "model_2.add(MaxPooling2D((2, 2)))\n",
        "\n",
        "model_2.add(SeparableConv2D(128, (3, 3), padding='same'))\n",
        "model_2.add(BatchNormalization())\n",
        "model_2.add(Activation('swish'))\n",
        "model_2.add(MaxPooling2D((2, 2)))\n",
        "\n",
        "model_2.add(SeparableConv2D(256, (3, 3), padding='same'))\n",
        "model_2.add(BatchNormalization())\n",
        "model_2.add(Activation('swish'))\n",
        "model_2.add(MaxPooling2D((2, 2)))\n",
        "\n",
        "model_2.add(SeparableConv2D(128, (3, 3), padding='same'))\n",
        "model_2.add(BatchNormalization())\n",
        "model_2.add(Activation('swish'))\n",
        "model_2.add(MaxPooling2D((2, 2)))\n",
        "\n",
        "model_2.add(SeparableConv2D(64, (3, 3), padding='same'))\n",
        "model_2.add(BatchNormalization())\n",
        "model_2.add(Activation('swish'))\n",
        "model_2.add(MaxPooling2D((2, 2)))\n",
        "\n",
        "# Squeeze-and-Excitation Block\n",
        "squeeze = GlobalAveragePooling2D()(model_2.output)\n",
        "excitation = Dense(64 // 16, activation='relu')(squeeze)\n",
        "excitation = Dense(64, activation='sigmoid')(excitation)\n",
        "excitation = Multiply()([model_2.output, excitation])\n",
        "\n",
        "# Flatten the output\n",
        "model_2.add(Flatten())\n",
        "\n",
        "# Add fully connected layers\n",
        "model_2.add(Dense(512, activation='swish'))\n",
        "model_2.add(Dropout(0.5))\n",
        "model_2.add(Dense(256, activation='swish'))\n",
        "model_2.add(Dropout(0.3))\n",
        "model_2.add(Dense(100, activation='softmax'))\n",
        "# Compile the model\n",
        "model_2.compile(optimizer='adam', loss='categorical_crossentropy', metrics=['accuracy'])\n",
        "model_2.fit(X_train, y_train, epochs=50, batch_size=128, validation_split = 0.1)"
      ],
      "metadata": {
        "colab": {
          "base_uri": "https://localhost:8080/"
        },
        "id": "GPVoBfqpmv7n",
        "outputId": "0e677065-34b4-4f68-ff53-aff893169a5f"
      },
      "execution_count": 39,
      "outputs": [
        {
          "output_type": "stream",
          "name": "stdout",
          "text": [
            "Epoch 1/50\n",
            "352/352 [==============================] - 89s 25ms/step - loss: 3.8084 - accuracy: 0.1123 - val_loss: 5.0874 - val_accuracy: 0.0090\n",
            "Epoch 2/50\n",
            "352/352 [==============================] - 7s 21ms/step - loss: 3.1748 - accuracy: 0.2123 - val_loss: 3.0675 - val_accuracy: 0.2416\n",
            "Epoch 3/50\n",
            "352/352 [==============================] - 7s 21ms/step - loss: 2.8723 - accuracy: 0.2698 - val_loss: 2.9470 - val_accuracy: 0.2564\n",
            "Epoch 4/50\n",
            "352/352 [==============================] - 7s 21ms/step - loss: 2.6812 - accuracy: 0.3073 - val_loss: 2.8662 - val_accuracy: 0.2830\n",
            "Epoch 5/50\n",
            "352/352 [==============================] - 7s 21ms/step - loss: 2.5255 - accuracy: 0.3391 - val_loss: 3.0663 - val_accuracy: 0.2778\n",
            "Epoch 6/50\n",
            "352/352 [==============================] - 7s 21ms/step - loss: 2.3924 - accuracy: 0.3714 - val_loss: 2.6352 - val_accuracy: 0.3278\n",
            "Epoch 7/50\n",
            "352/352 [==============================] - 7s 21ms/step - loss: 2.2856 - accuracy: 0.3895 - val_loss: 2.6976 - val_accuracy: 0.3098\n",
            "Epoch 8/50\n",
            "352/352 [==============================] - 8s 21ms/step - loss: 2.1922 - accuracy: 0.4084 - val_loss: 2.7717 - val_accuracy: 0.3164\n",
            "Epoch 9/50\n",
            "352/352 [==============================] - 8s 22ms/step - loss: 2.1007 - accuracy: 0.4302 - val_loss: 2.6890 - val_accuracy: 0.3302\n",
            "Epoch 10/50\n",
            "352/352 [==============================] - 7s 21ms/step - loss: 2.0272 - accuracy: 0.4432 - val_loss: 2.6904 - val_accuracy: 0.3342\n",
            "Epoch 11/50\n",
            "352/352 [==============================] - 8s 22ms/step - loss: 1.9566 - accuracy: 0.4583 - val_loss: 2.8949 - val_accuracy: 0.3142\n",
            "Epoch 12/50\n",
            "352/352 [==============================] - 8s 21ms/step - loss: 1.8912 - accuracy: 0.4732 - val_loss: 2.6714 - val_accuracy: 0.3472\n",
            "Epoch 13/50\n",
            "352/352 [==============================] - 8s 21ms/step - loss: 1.8343 - accuracy: 0.4873 - val_loss: 3.6327 - val_accuracy: 0.2600\n",
            "Epoch 14/50\n",
            "352/352 [==============================] - 8s 23ms/step - loss: 1.7836 - accuracy: 0.4998 - val_loss: 2.8527 - val_accuracy: 0.3432\n",
            "Epoch 15/50\n",
            "352/352 [==============================] - 8s 22ms/step - loss: 1.7311 - accuracy: 0.5090 - val_loss: 2.7005 - val_accuracy: 0.3544\n",
            "Epoch 16/50\n",
            "352/352 [==============================] - 8s 22ms/step - loss: 1.6803 - accuracy: 0.5199 - val_loss: 2.9476 - val_accuracy: 0.3320\n",
            "Epoch 17/50\n",
            "352/352 [==============================] - 8s 22ms/step - loss: 1.6435 - accuracy: 0.5284 - val_loss: 3.2496 - val_accuracy: 0.3014\n",
            "Epoch 18/50\n",
            "352/352 [==============================] - 8s 21ms/step - loss: 1.6021 - accuracy: 0.5374 - val_loss: 2.7573 - val_accuracy: 0.3592\n",
            "Epoch 19/50\n",
            "352/352 [==============================] - 8s 22ms/step - loss: 1.5650 - accuracy: 0.5476 - val_loss: 3.3961 - val_accuracy: 0.2960\n",
            "Epoch 20/50\n",
            "352/352 [==============================] - 8s 22ms/step - loss: 1.5228 - accuracy: 0.5558 - val_loss: 2.8646 - val_accuracy: 0.3530\n",
            "Epoch 21/50\n",
            "352/352 [==============================] - 8s 21ms/step - loss: 1.4952 - accuracy: 0.5633 - val_loss: 2.8318 - val_accuracy: 0.3472\n",
            "Epoch 22/50\n",
            "352/352 [==============================] - 8s 22ms/step - loss: 1.4574 - accuracy: 0.5707 - val_loss: 2.9904 - val_accuracy: 0.3468\n",
            "Epoch 23/50\n",
            "352/352 [==============================] - 7s 21ms/step - loss: 1.4187 - accuracy: 0.5831 - val_loss: 3.1822 - val_accuracy: 0.3234\n",
            "Epoch 24/50\n",
            "352/352 [==============================] - 8s 21ms/step - loss: 1.3996 - accuracy: 0.5884 - val_loss: 3.0880 - val_accuracy: 0.3446\n",
            "Epoch 25/50\n",
            "352/352 [==============================] - 8s 21ms/step - loss: 1.3710 - accuracy: 0.5908 - val_loss: 3.0523 - val_accuracy: 0.3516\n",
            "Epoch 26/50\n",
            "352/352 [==============================] - 7s 21ms/step - loss: 1.3440 - accuracy: 0.5995 - val_loss: 3.5330 - val_accuracy: 0.2914\n",
            "Epoch 27/50\n",
            "352/352 [==============================] - 8s 21ms/step - loss: 1.3297 - accuracy: 0.6020 - val_loss: 3.2277 - val_accuracy: 0.3416\n",
            "Epoch 28/50\n",
            "352/352 [==============================] - 8s 21ms/step - loss: 1.2973 - accuracy: 0.6129 - val_loss: 3.2187 - val_accuracy: 0.3368\n",
            "Epoch 29/50\n",
            "352/352 [==============================] - 7s 21ms/step - loss: 1.2788 - accuracy: 0.6148 - val_loss: 3.5492 - val_accuracy: 0.2946\n",
            "Epoch 30/50\n",
            "352/352 [==============================] - 8s 22ms/step - loss: 1.2627 - accuracy: 0.6177 - val_loss: 3.8703 - val_accuracy: 0.2850\n",
            "Epoch 31/50\n",
            "352/352 [==============================] - 7s 21ms/step - loss: 1.2354 - accuracy: 0.6250 - val_loss: 3.3195 - val_accuracy: 0.3286\n",
            "Epoch 32/50\n",
            "352/352 [==============================] - 7s 21ms/step - loss: 1.2129 - accuracy: 0.6307 - val_loss: 3.4925 - val_accuracy: 0.3188\n",
            "Epoch 33/50\n",
            "352/352 [==============================] - 8s 21ms/step - loss: 1.1890 - accuracy: 0.6392 - val_loss: 3.4016 - val_accuracy: 0.3348\n",
            "Epoch 34/50\n",
            "352/352 [==============================] - 7s 21ms/step - loss: 1.1829 - accuracy: 0.6357 - val_loss: 3.3947 - val_accuracy: 0.3288\n",
            "Epoch 35/50\n",
            "352/352 [==============================] - 8s 21ms/step - loss: 1.1759 - accuracy: 0.6395 - val_loss: 3.2013 - val_accuracy: 0.3482\n",
            "Epoch 36/50\n",
            "352/352 [==============================] - 8s 21ms/step - loss: 1.1429 - accuracy: 0.6494 - val_loss: 3.3456 - val_accuracy: 0.3432\n",
            "Epoch 37/50\n",
            "352/352 [==============================] - 7s 21ms/step - loss: 1.1353 - accuracy: 0.6528 - val_loss: 3.4803 - val_accuracy: 0.3366\n",
            "Epoch 38/50\n",
            "352/352 [==============================] - 8s 21ms/step - loss: 1.1243 - accuracy: 0.6536 - val_loss: 3.4127 - val_accuracy: 0.3380\n",
            "Epoch 39/50\n",
            "352/352 [==============================] - 7s 21ms/step - loss: 1.1082 - accuracy: 0.6566 - val_loss: 3.4681 - val_accuracy: 0.3456\n",
            "Epoch 40/50\n",
            "352/352 [==============================] - 7s 21ms/step - loss: 1.0926 - accuracy: 0.6613 - val_loss: 3.6517 - val_accuracy: 0.3308\n",
            "Epoch 41/50\n",
            "352/352 [==============================] - 8s 21ms/step - loss: 1.0742 - accuracy: 0.6702 - val_loss: 3.5002 - val_accuracy: 0.3398\n",
            "Epoch 42/50\n",
            "352/352 [==============================] - 7s 21ms/step - loss: 1.0654 - accuracy: 0.6690 - val_loss: 3.4355 - val_accuracy: 0.3358\n",
            "Epoch 43/50\n",
            "352/352 [==============================] - 8s 22ms/step - loss: 1.0609 - accuracy: 0.6694 - val_loss: 3.7505 - val_accuracy: 0.3150\n",
            "Epoch 44/50\n",
            "352/352 [==============================] - 8s 21ms/step - loss: 1.0455 - accuracy: 0.6738 - val_loss: 3.8007 - val_accuracy: 0.3250\n",
            "Epoch 45/50\n",
            "352/352 [==============================] - 7s 21ms/step - loss: 1.0365 - accuracy: 0.6765 - val_loss: 3.9517 - val_accuracy: 0.3102\n",
            "Epoch 46/50\n",
            "352/352 [==============================] - 8s 22ms/step - loss: 1.0323 - accuracy: 0.6790 - val_loss: 3.7891 - val_accuracy: 0.3190\n",
            "Epoch 47/50\n",
            "352/352 [==============================] - 8s 22ms/step - loss: 1.0133 - accuracy: 0.6829 - val_loss: 3.6679 - val_accuracy: 0.3312\n",
            "Epoch 48/50\n",
            "352/352 [==============================] - 7s 21ms/step - loss: 0.9994 - accuracy: 0.6864 - val_loss: 3.6688 - val_accuracy: 0.3366\n",
            "Epoch 49/50\n",
            "352/352 [==============================] - 8s 22ms/step - loss: 0.9929 - accuracy: 0.6873 - val_loss: 3.8911 - val_accuracy: 0.3210\n",
            "Epoch 50/50\n",
            "352/352 [==============================] - 7s 21ms/step - loss: 0.9821 - accuracy: 0.6931 - val_loss: 3.8710 - val_accuracy: 0.3192\n"
          ]
        },
        {
          "output_type": "execute_result",
          "data": {
            "text/plain": [
              "<keras.src.callbacks.History at 0x7bb7bc3651b0>"
            ]
          },
          "metadata": {},
          "execution_count": 39
        }
      ]
    },
    {
      "cell_type": "code",
      "source": [
        "history = model_2.evaluate(X_test, y_test)"
      ],
      "metadata": {
        "colab": {
          "base_uri": "https://localhost:8080/"
        },
        "id": "IIIF6YEtm427",
        "outputId": "170a33ce-ffe3-48a9-df04-64b90024e9c0"
      },
      "execution_count": 40,
      "outputs": [
        {
          "output_type": "stream",
          "name": "stdout",
          "text": [
            "313/313 [==============================] - 2s 5ms/step - loss: 3.7646 - accuracy: 0.3361\n"
          ]
        }
      ]
    },
    {
      "cell_type": "code",
      "source": [
        "history"
      ],
      "metadata": {
        "colab": {
          "base_uri": "https://localhost:8080/"
        },
        "id": "sW18TTbqu4fK",
        "outputId": "8d1bef93-ecb7-4308-d180-6dd55fa5e2a8"
      },
      "execution_count": 41,
      "outputs": [
        {
          "output_type": "execute_result",
          "data": {
            "text/plain": [
              "[3.7646195888519287, 0.3361000120639801]"
            ]
          },
          "metadata": {},
          "execution_count": 41
        }
      ]
    },
    {
      "cell_type": "code",
      "source": [
        "import tensorflow as tf\n",
        "from tensorflow.keras.layers import SeparableConv2D, MaxPooling2D, Flatten, Dense, BatchNormalization, Dropout\n",
        "from tensorflow.keras.layers import Activation, GlobalAveragePooling2D, Multiply\n",
        "from tensorflow.keras.regularizers import l2\n",
        "from tensorflow.keras.preprocessing.image import ImageDataGenerator\n",
        "\n",
        "# Data augmentation and normalization\n",
        "train_datagen = ImageDataGenerator(\n",
        "    rotation_range=15,\n",
        "    width_shift_range=0.1,\n",
        "    height_shift_range=0.1,\n",
        "    horizontal_flip=True,\n",
        "    rescale=1./255\n",
        ")\n",
        "\n",
        "val_datagen = ImageDataGenerator(rescale=1./255)\n",
        "\n",
        "# Create a sequential model\n",
        "model_2 = tf.keras.Sequential()\n",
        "\n",
        "# Add convolutional layers\n",
        "model_2.add(SeparableConv2D(64, (3, 3), padding='same', input_shape=(32, 32, 3), kernel_regularizer=l2(0.001)))\n",
        "model_2.add(BatchNormalization())\n",
        "model_2.add(Activation('swish'))\n",
        "model_2.add(MaxPooling2D((2, 2)))\n",
        "model_2.add(Dropout(0.2))\n",
        "\n",
        "model_2.add(SeparableConv2D(128, (3, 3), padding='same', kernel_regularizer=l2(0.001)))\n",
        "model_2.add(BatchNormalization())\n",
        "model_2.add(Activation('swish'))\n",
        "model_2.add(MaxPooling2D((2, 2)))\n",
        "model_2.add(Dropout(0.3))\n",
        "\n",
        "model_2.add(SeparableConv2D(256, (3, 3), padding='same', kernel_regularizer=l2(0.001)))\n",
        "model_2.add(BatchNormalization())\n",
        "model_2.add(Activation('swish'))\n",
        "model_2.add(MaxPooling2D((2, 2)))\n",
        "model_2.add(Dropout(0.4))\n",
        "\n",
        "# Squeeze-and-Excitation Block\n",
        "squeeze = GlobalAveragePooling2D()(model_2.output)\n",
        "excitation = Dense(256 // 16, activation='swish')(squeeze)\n",
        "excitation = Dense(256, activation='sigmoid')(excitation)\n",
        "excitation = Multiply()([model_2.output, excitation])\n",
        "\n",
        "# Flatten the output\n",
        "model_2.add(Flatten())\n",
        "\n",
        "# Add fully connected layers\n",
        "model_2.add(Dense(512, activation='swish', kernel_regularizer=l2(0.001)))\n",
        "model_2.add(Dropout(0.5))\n",
        "model_2.add(Dense(256, activation='swish', kernel_regularizer=l2(0.001)))\n",
        "model_2.add(Dropout(0.4))\n",
        "model_2.add(Dense(100, activation='softmax'))\n",
        "\n",
        "# Compile the model\n",
        "model_2.compile(optimizer='adam', loss='categorical_crossentropy', metrics=['accuracy'])\n",
        "\n",
        "# Train the model with data augmentation\n",
        "model_2.fit(train_datagen.flow(X_train, y_train, batch_size=64),\n",
        "            steps_per_epoch=len(X_train) // 64,\n",
        "            epochs=100,\n",
        "            validation_data=val_datagen.flow(X_test, y_test, batch_size=64),\n",
        "            validation_steps=len(X_test) // 64,)"
      ],
      "metadata": {
        "colab": {
          "base_uri": "https://localhost:8080/",
          "height": 211
        },
        "id": "EGmkQzBFu57S",
        "outputId": "0bb34b81-ea1e-41d6-f598-72c686814fc6"
      },
      "execution_count": 1,
      "outputs": [
        {
          "output_type": "error",
          "ename": "NameError",
          "evalue": "name 'X_train' is not defined",
          "traceback": [
            "\u001b[0;31m---------------------------------------------------------------------------\u001b[0m",
            "\u001b[0;31mNameError\u001b[0m                                 Traceback (most recent call last)",
            "\u001b[0;32m<ipython-input-1-5803bd95df51>\u001b[0m in \u001b[0;36m<cell line: 60>\u001b[0;34m()\u001b[0m\n\u001b[1;32m     58\u001b[0m \u001b[0;34m\u001b[0m\u001b[0m\n\u001b[1;32m     59\u001b[0m \u001b[0;31m# Train the model with data augmentation\u001b[0m\u001b[0;34m\u001b[0m\u001b[0;34m\u001b[0m\u001b[0m\n\u001b[0;32m---> 60\u001b[0;31m model_2.fit(train_datagen.flow(X_train, y_train, batch_size=64),\n\u001b[0m\u001b[1;32m     61\u001b[0m             \u001b[0msteps_per_epoch\u001b[0m\u001b[0;34m=\u001b[0m\u001b[0mlen\u001b[0m\u001b[0;34m(\u001b[0m\u001b[0mX_train\u001b[0m\u001b[0;34m)\u001b[0m \u001b[0;34m//\u001b[0m \u001b[0;36m64\u001b[0m\u001b[0;34m,\u001b[0m\u001b[0;34m\u001b[0m\u001b[0;34m\u001b[0m\u001b[0m\n\u001b[1;32m     62\u001b[0m             \u001b[0mepochs\u001b[0m\u001b[0;34m=\u001b[0m\u001b[0;36m100\u001b[0m\u001b[0;34m,\u001b[0m\u001b[0;34m\u001b[0m\u001b[0;34m\u001b[0m\u001b[0m\n",
            "\u001b[0;31mNameError\u001b[0m: name 'X_train' is not defined"
          ]
        }
      ]
    },
    {
      "cell_type": "code",
      "source": [],
      "metadata": {
        "id": "fyKglXegzPNG"
      },
      "execution_count": null,
      "outputs": []
    }
  ]
}