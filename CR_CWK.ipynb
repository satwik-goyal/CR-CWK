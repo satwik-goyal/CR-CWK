{
  "nbformat": 4,
  "nbformat_minor": 0,
  "metadata": {
    "colab": {
      "provenance": [],
      "gpuType": "T4",
      "include_colab_link": true
    },
    "kernelspec": {
      "name": "python3",
      "display_name": "Python 3"
    },
    "language_info": {
      "name": "python"
    },
    "accelerator": "GPU"
  },
  "cells": [
    {
      "cell_type": "markdown",
      "metadata": {
        "id": "view-in-github",
        "colab_type": "text"
      },
      "source": [
        "<a href=\"https://colab.research.google.com/github/satwik-goyal/Robotics-CIFAR100-Classification/blob/main/CR_CWK.ipynb\" target=\"_parent\"><img src=\"https://colab.research.google.com/assets/colab-badge.svg\" alt=\"Open In Colab\"/></a>"
      ]
    },
    {
      "cell_type": "markdown",
      "source": [
        "# Keras"
      ],
      "metadata": {
        "id": "Tn3xhHXqwXsL"
      }
    },
    {
      "cell_type": "code",
      "source": [
        "\n",
        "import tensorflow as tf\n",
        "from tensorflow.keras.models import Sequential\n",
        "from tensorflow.keras.layers import Dense, Dropout, Flatten, BatchNormalization\n",
        "from tensorflow.keras.layers import Conv2D, MaxPooling2D, AveragePooling2D, Reshape , Multiply, Activation\n",
        "from tensorflow.keras.layers import Input, DepthwiseConv2D, GlobalAveragePooling2D , Add, UpSampling2D\n",
        "from tensorflow.keras.regularizers import l2\n",
        "from tensorflow.keras.callbacks import LearningRateScheduler\n",
        "from tensorflow.keras.optimizers.legacy import RMSprop, Adam\n",
        "import matplotlib.pyplot as plt\n",
        "from tensorflow.keras.applications import EfficientNetB0\n",
        "from tensorflow.keras.applications import ResNet50\n",
        "from keras.models import Model\n",
        "from keras.applications.resnet50 import preprocess_input, decode_predictions"
      ],
      "metadata": {
        "id": "7yH403c5FbRn"
      },
      "execution_count": 52,
      "outputs": []
    },
    {
      "cell_type": "code",
      "execution_count": 53,
      "metadata": {
        "id": "IB1vjS2tkUoY"
      },
      "outputs": [],
      "source": [
        "\n",
        "\n",
        " # Load CIFAR100 dataset\n",
        "from tensorflow.keras.datasets import cifar100\n",
        "(X_train, y_train), (X_test, y_test) = cifar100.load_data()\n",
        "\n",
        "# # Normalize pixel values\n",
        "# X_train = X_train.astype('float32') / 255\n",
        "# X_test = X_test.astype('float32') / 255\n",
        "x_train = preprocess_input(X_train)\n",
        "x_test = preprocess_input(X_test)\n",
        "\n",
        "\n",
        "# Convert class vectors to binary class matrices\n",
        "y_train = tf.keras.utils.to_categorical(y_train, 100)\n",
        "y_test = tf.keras.utils.to_categorical(y_test, 100)\n",
        "\n",
        "\n"
      ]
    },
    {
      "cell_type": "code",
      "source": [
        "Selected_Image = 13422\n",
        "image = x_train[Selected_Image]\n",
        "plt.imshow(image)\n",
        "plt.show()\n"
      ],
      "metadata": {
        "id": "pmdquQgpwwCE",
        "outputId": "b769c34d-9aa2-494e-c63d-8a0d5cfc08d3",
        "colab": {
          "base_uri": "https://localhost:8080/"
        }
      },
      "execution_count": null,
      "outputs": [
        {
          "output_type": "stream",
          "name": "stderr",
          "text": [
            "WARNING:matplotlib.image:Clipping input data to the valid range for imshow with RGB data ([0..1] for floats or [0..255] for integers).\n"
          ]
        }
      ]
    },
    {
      "cell_type": "markdown",
      "source": [
        "## Pretrained"
      ],
      "metadata": {
        "id": "vWUrQKgxwjn1"
      }
    },
    {
      "cell_type": "code",
      "source": [
        "import numpy as np\n",
        "\n",
        "\n",
        "def get_random_eraser(p=0.5, s_l=0.02, s_h=0.4, r_1=0.3, r_2=1/0.3, v_l=0, v_h=224, pixel_level=False):\n",
        "    def eraser(input_img):\n",
        "        img_h, img_w, img_c = input_img.shape\n",
        "        p_1 = np.random.rand()\n",
        "\n",
        "        if p_1 > p:\n",
        "            return input_img\n",
        "\n",
        "        while True:\n",
        "            s = np.random.uniform(s_l, s_h) * img_h * img_w\n",
        "            r = np.random.uniform(r_1, r_2)\n",
        "            w = int(np.sqrt(s / r))\n",
        "            h = int(np.sqrt(s * r))\n",
        "            left = np.random.randint(0, img_w)\n",
        "            top = np.random.randint(0, img_h)\n",
        "\n",
        "            if left + w <= img_w and top + h <= img_h:\n",
        "                break\n",
        "\n",
        "        if pixel_level:\n",
        "            c = np.random.uniform(v_l, v_h, (h, w, img_c))\n",
        "        else:\n",
        "            c = np.random.uniform(v_l, v_h)\n",
        "\n",
        "        input_img[top:top + h, left:left + w, :] = c\n",
        "\n",
        "        return input_img\n",
        "\n",
        "    return eraser"
      ],
      "metadata": {
        "id": "n-kLHJeKElSB"
      },
      "execution_count": null,
      "outputs": []
    },
    {
      "cell_type": "code",
      "source": [],
      "metadata": {
        "id": "LXjZ3YkiKICe"
      },
      "execution_count": null,
      "outputs": []
    },
    {
      "cell_type": "code",
      "source": [
        "# data augmentation\n",
        "from keras.preprocessing.image import ImageDataGenerator\n",
        "\n",
        "train_data_generator = ImageDataGenerator(preprocessing_function=get_random_eraser(v_l=0, v_h=1, pixel_level=True))\n",
        "\n",
        "# Fit the data generator to your data\n",
        "train_data_generator.fit(x_train)\n",
        "\n",
        "# Apply the transformations to your data\n",
        "# transformed_train_data = train_data_generator.flow(x_train, y_train, target_size=(224, 224),\n",
        "#     batch_size=32,\n",
        "#     class_mode='binary')"
      ],
      "metadata": {
        "id": "D4oTiwf2wzlP"
      },
      "execution_count": null,
      "outputs": []
    },
    {
      "cell_type": "code",
      "source": [],
      "metadata": {
        "id": "Nji3G8jdHMJr"
      },
      "execution_count": null,
      "outputs": []
    },
    {
      "cell_type": "code",
      "source": [
        "# test_data_generator = ImageDataGenerator()\n",
        "\n",
        "# transformed_test_data = test_data_generator.flow(X_test, y_test , batch_size = 32)"
      ],
      "metadata": {
        "id": "K5U_5U802dJ4"
      },
      "execution_count": null,
      "outputs": []
    },
    {
      "cell_type": "code",
      "source": [
        "base_model = ResNet50(weights='imagenet', include_top=False, input_shape=(224, 224, 3))\n",
        "\n",
        "for layer in base_model.layers:\n",
        "    if isinstance(layer, BatchNormalization):\n",
        "        layer.trainable = True\n",
        "    else:\n",
        "        layer.trainable = False\n",
        "\n",
        "model = Sequential()\n",
        "model.add(UpSampling2D())\n",
        "model.add(UpSampling2D())\n",
        "model.add(UpSampling2D())\n",
        "model.add(base_model)\n",
        "model.add(GlobalAveragePooling2D())\n",
        "model.add(Dense(256, activation='relu'))\n",
        "model.add(Dropout(.25))\n",
        "model.add(BatchNormalization())\n",
        "model.add(Dense(100, activation='softmax'))\n",
        "\n",
        "\n",
        "optimizer = Adam(1e-2)\n",
        "model.compile(optimizer = optimizer , metrics = [\"accuracy\"] , loss='categorical_crossentropy')\n"
      ],
      "metadata": {
        "id": "7IAqV6XgwiZI"
      },
      "execution_count": null,
      "outputs": []
    },
    {
      "cell_type": "code",
      "source": [],
      "metadata": {
        "id": "yXBzsKjO2BWo"
      },
      "execution_count": null,
      "outputs": []
    },
    {
      "cell_type": "code",
      "source": [
        "\n",
        "model.fit_generator(train_data_generator.flow(x_train, y_train, batch_size=64),\n",
        "                                  steps_per_epoch=x_train.shape[0] // 64,\n",
        "                                  epochs=25,\n",
        "                                  validation_data=(x_test, y_test))"
      ],
      "metadata": {
        "id": "6S_cRXc12Br9"
      },
      "execution_count": null,
      "outputs": []
    },
    {
      "cell_type": "code",
      "source": [
        "history = pre_model.evaluate(X_test , y_test)"
      ],
      "metadata": {
        "id": "YgSxo-Db28sN",
        "outputId": "d8c8ea46-32fd-4724-ace0-872efef87225",
        "colab": {
          "base_uri": "https://localhost:8080/"
        }
      },
      "execution_count": 9,
      "outputs": [
        {
          "output_type": "stream",
          "name": "stdout",
          "text": [
            "313/313 [==============================] - 5s 15ms/step - loss: 6.5759 - accuracy: 0.3407\n"
          ]
        }
      ]
    },
    {
      "cell_type": "code",
      "source": [],
      "metadata": {
        "id": "m_ChcPAXDRed"
      },
      "execution_count": null,
      "outputs": []
    }
  ]
}